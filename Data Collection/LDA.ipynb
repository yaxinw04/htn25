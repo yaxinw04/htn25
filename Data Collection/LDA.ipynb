{
 "cells": [
  {
   "cell_type": "code",
   "execution_count": 1,
   "id": "d93031ff",
   "metadata": {},
   "outputs": [],
   "source": [
    "import numpy as np\n",
    "import scipy.io as sio\n",
    "from scipy import signal\n",
    "from scipy.signal import butter, lfilter, iirnotch\n",
    "from brainflow.board_shim import BoardShim, BrainFlowInputParams, BoardIds\n",
    "import matplotlib.pyplot as plt\n",
    "from sklearn.discriminant_analysis import LinearDiscriminantAnalysis as LDA\n",
    "from sklearn.model_selection import cross_val_score, StratifiedKFold"
   ]
  },
  {
   "cell_type": "code",
   "execution_count": 10,
   "id": "7fa623ee",
   "metadata": {},
   "outputs": [],
   "source": [
    "def bandpass_filter(data, low, high, fs, order=4):\n",
    "    nyq = 0.5 * fs\n",
    "    low /= nyq\n",
    "    high /= nyq\n",
    "    b, a = butter(order, [low, high], btype='band')\n",
    "    return lfilter(b, a, data, axis=-1)"
   ]
  },
  {
   "cell_type": "code",
   "execution_count": 11,
   "id": "bf6b68a5",
   "metadata": {},
   "outputs": [],
   "source": [
    "def csp(X, y, n_filters=2):\n",
    "    \"\"\"\n",
    "    Compute CSP filters.\n",
    "    X: ndarray, shape (trials, channels, samples)\n",
    "    y: ndarray, shape (trials,)\n",
    "    \"\"\"\n",
    "    classes = np.unique(y)\n",
    "    covs = []\n",
    "\n",
    "\n",
    "    # Compute class covariance matrices\n",
    "    for c in classes:\n",
    "        Xc = X[y == c]\n",
    "        cov = np.mean([np.cov(trial) for trial in Xc], axis=0)\n",
    "        covs.append(cov)\n",
    "\n",
    "\n",
    "    # Solve generalized eigenvalue problem\n",
    "    R = covs[0] + covs[1]\n",
    "    eigvals, eigvecs = np.linalg.eig(np.linalg.pinv(R) @ covs[0])\n",
    "\n",
    "\n",
    "    # Sort eigenvalues\n",
    "    ix = np.argsort(eigvals)[::-1]\n",
    "    eigvecs = eigvecs[:, ix]\n",
    "\n",
    "\n",
    "    # Select filters\n",
    "    filters = np.hstack([eigvecs[:, :n_filters], eigvecs[:, -n_filters:]])\n",
    "    return filters.real"
   ]
  },
  {
   "cell_type": "code",
   "execution_count": 12,
   "id": "5ecf4b84",
   "metadata": {},
   "outputs": [],
   "source": [
    "def fbcsp(X, y, fs, bands=[(8, 12), (12, 16), (16, 22), (22, 30)], n_filters=2):\n",
    "    \"\"\"\n",
    "    X: ndarray, shape (trials, channels, samples)\n",
    "    y: ndarray, labels\n",
    "    fs: sampling rate\n",
    "    \"\"\"\n",
    "    features = []\n",
    "    filters_per_band = []\n",
    "\n",
    "\n",
    "    for band in bands:\n",
    "        # Bandpass filter\n",
    "        Xf = np.array([bandpass_filter(trial, band[0], band[1], fs) for trial in X])\n",
    "\n",
    "        # Compute CSP filters\n",
    "        W = csp(Xf, y, n_filters=n_filters)\n",
    "        filters_per_band.append(W)\n",
    "\n",
    "\n",
    "        # Project and log-variance features\n",
    "        Xc = np.array([W.T @ trial for trial in Xf])\n",
    "        var = np.var(Xc, axis=2)\n",
    "        var /= var.sum(axis=1, keepdims=True)\n",
    "        feat = np.log(var)\n",
    "        features.append(feat)\n",
    "\n",
    "    # Concatenate across bands\n",
    "    features = np.concatenate(features, axis=1)\n",
    "    return features, filters_per_band"
   ]
  },
  {
   "cell_type": "code",
   "execution_count": 13,
   "id": "bdd0cf47",
   "metadata": {},
   "outputs": [],
   "source": [
    "debug = False\n",
    "\n",
    "# Setting up the board\n",
    "if debug:\n",
    "    # Create a synthetic board for debugging purposes\n",
    "    board_id = BoardIds.SYNTHETIC_BOARD\n",
    "    params = BrainFlowInputParams()\n",
    "else:\n",
    "    # Setting up the board\n",
    "    params = BrainFlowInputParams()\n",
    "    params.serial_number = 'UN-2023.02.30'\n",
    "    board_id = BoardIds.UNICORN_BOARD\n",
    "    \n",
    "board = BoardShim(board_id, params)\n",
    "\n",
    "# Getting specific board details\n",
    "channels = board.get_eeg_channels(board_id) #EEG Channels\n",
    "timestamp_channel = board.get_timestamp_channel(board_id) # Timestamp channel\n",
    "marker_channel = board.get_marker_channel(board_id) # Marker channel for synchronization\n",
    "sampling_rate = BoardShim.get_sampling_rate(board_id) # Hz"
   ]
  },
  {
   "cell_type": "code",
   "execution_count": 25,
   "id": "a029007d",
   "metadata": {},
   "outputs": [],
   "source": [
    "dataset = np.loadtxt(r\"..//dataset1.csv\", delimiter=\",\")"
   ]
  },
  {
   "cell_type": "code",
   "execution_count": 15,
   "id": "352b204e",
   "metadata": {},
   "outputs": [
    {
     "data": {
      "text/plain": [
       "(175675, 8)"
      ]
     },
     "execution_count": 15,
     "metadata": {},
     "output_type": "execute_result"
    }
   ],
   "source": [
    "eegdata = dataset[300:, channels]\n",
    "eegdata.shape"
   ]
  },
  {
   "cell_type": "code",
   "execution_count": 16,
   "id": "4a652d37",
   "metadata": {},
   "outputs": [],
   "source": [
    "markers = dataset[300:, marker_channel]"
   ]
  },
  {
   "cell_type": "code",
   "execution_count": 17,
   "id": "47f98cc3",
   "metadata": {},
   "outputs": [],
   "source": [
    "temp_idx = np.arange(0, len(markers))\n",
    "temp_idx = temp_idx[markers != 0]\n",
    "temp_idx = temp_idx[markers[temp_idx] != 67]\n",
    "\n",
    "\n",
    "\n",
    "eeg_samples = []\n",
    "labels = []\n",
    "\n",
    "for i in range(len(temp_idx)):\n",
    "    temp_eeg = eegdata[temp_idx[i]:temp_idx[i]+4*sampling_rate, :]\n",
    "    \n",
    "    eeg_samples.append(temp_eeg)\n",
    "    labels.append(markers[temp_idx[i]])\n",
    "\n",
    "eeg_samples = np.array(eeg_samples)\n",
    "labels = np.array(labels)-1"
   ]
  },
  {
   "cell_type": "code",
   "execution_count": 18,
   "id": "3cbc3ca7",
   "metadata": {},
   "outputs": [
    {
     "data": {
      "text/plain": [
       "array([0., 0., 1., 1., 1., 0., 0., 1., 0., 1., 0., 1., 1., 1., 0., 0., 0.,\n",
       "       1., 0., 1., 0., 1., 0., 1., 0., 1., 1., 1., 0., 0., 1., 1., 1., 0.,\n",
       "       1., 0., 1., 0., 0., 0., 0., 0., 1., 1., 0., 0., 1., 1., 0., 1., 1.,\n",
       "       1., 1., 0., 0., 0., 1., 1., 0., 0.])"
      ]
     },
     "execution_count": 18,
     "metadata": {},
     "output_type": "execute_result"
    }
   ],
   "source": [
    "labels"
   ]
  },
  {
   "cell_type": "code",
   "execution_count": 26,
   "id": "e682d669",
   "metadata": {},
   "outputs": [
    {
     "name": "stdout",
     "output_type": "stream",
     "text": [
      "(60,)\n",
      "(60, 1000, 8)\n"
     ]
    }
   ],
   "source": [
    "print(labels.shape)\n",
    "print(eeg_samples.shape)\n",
    "eeg_samples = np.transpose(eeg_samples, (0, 2, 1))"
   ]
  },
  {
   "cell_type": "code",
   "execution_count": 27,
   "id": "47c55e28",
   "metadata": {},
   "outputs": [
    {
     "name": "stdout",
     "output_type": "stream",
     "text": [
      "FBCSP+LDA Accuracy: 0.58 ± 0.15\n"
     ]
    }
   ],
   "source": [
    "\n",
    "\n",
    "\n",
    "X_feat, filters = fbcsp(eeg_samples, labels, sampling_rate)\n",
    "\n",
    "\n",
    "clf = LDA()\n",
    "cv = StratifiedKFold(n_splits=5, shuffle=True, random_state=42)\n",
    "scores = cross_val_score(clf, X_feat, labels, cv=cv)\n",
    "\n",
    "\n",
    "print(\"FBCSP+LDA Accuracy: %.2f ± %.2f\" % (scores.mean(), scores.std()))"
   ]
  },
  {
   "cell_type": "code",
   "execution_count": 34,
   "id": "1e730a4a",
   "metadata": {},
   "outputs": [
    {
     "name": "stdout",
     "output_type": "stream",
     "text": [
      "Computing rank from data with rank=None\n",
      "    Using tolerance 2.7e+05 (2.2e-16 eps * 8 dim * 1.5e+20  max singular value)\n",
      "    Estimated rank (data): 8\n",
      "    data: rank 8 computed from 8 data channels with 0 projectors\n",
      "Reducing data rank from 8 -> 8\n",
      "Estimating class=0.0 covariance using EMPIRICAL\n",
      "Done.\n",
      "Estimating class=1.0 covariance using EMPIRICAL\n",
      "Done.\n",
      "Train accuracy: 0.62\n",
      "Test accuracy: 0.58\n"
     ]
    }
   ],
   "source": [
    "from sklearn.model_selection import train_test_split\n",
    "from sklearn.pipeline import Pipeline\n",
    "from sklearn.discriminant_analysis import LinearDiscriminantAnalysis as LDA\n",
    "from mne.decoding import CSP  # CSP implementation in MNE\n",
    "\n",
    "X_train, X_test, y_train, y_test = train_test_split(\n",
    "    eeg_samples, labels, test_size=0.2, shuffle=False\n",
    ")\n",
    "\n",
    "# -----------------------------\n",
    "# Build pipeline: CSP → LDA\n",
    "# -----------------------------\n",
    "clf = Pipeline([\n",
    "    (\"csp\", CSP(n_components=2, reg=None, log=True, norm_trace=False)),\n",
    "    (\"lda\", LDA())\n",
    "])\n",
    "\n",
    "# -----------------------------\n",
    "# Train\n",
    "# -----------------------------\n",
    "clf.fit(X_train, y_train)\n",
    "\n",
    "# -----------------------------\n",
    "# Evaluate\n",
    "# -----------------------------\n",
    "train_acc = clf.score(X_train, y_train)\n",
    "test_acc = clf.score(X_test, y_test)\n",
    "\n",
    "print(f\"Train accuracy: {train_acc:.2f}\")\n",
    "print(f\"Test accuracy: {test_acc:.2f}\")"
   ]
  },
  {
   "cell_type": "code",
   "execution_count": null,
   "id": "28bea91d",
   "metadata": {},
   "outputs": [],
   "source": []
  },
  {
   "cell_type": "code",
   "execution_count": null,
   "id": "2e5ec09c",
   "metadata": {},
   "outputs": [],
   "source": []
  }
 ],
 "metadata": {
  "kernelspec": {
   "display_name": "Python 3",
   "language": "python",
   "name": "python3"
  },
  "language_info": {
   "codemirror_mode": {
    "name": "ipython",
    "version": 3
   },
   "file_extension": ".py",
   "mimetype": "text/x-python",
   "name": "python",
   "nbconvert_exporter": "python",
   "pygments_lexer": "ipython3",
   "version": "3.10.11"
  }
 },
 "nbformat": 4,
 "nbformat_minor": 5
}
