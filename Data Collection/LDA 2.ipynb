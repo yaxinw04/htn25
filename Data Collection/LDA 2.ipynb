{
 "cells": [
  {
   "cell_type": "code",
   "execution_count": 1,
   "id": "d93031ff",
   "metadata": {},
   "outputs": [],
   "source": [
    "import numpy as np\n",
    "import scipy.io as sio\n",
    "from scipy import signal\n",
    "from scipy.signal import butter, lfilter, iirnotch\n",
    "from brainflow.board_shim import BoardShim, BrainFlowInputParams, BoardIds\n",
    "import matplotlib.pyplot as plt\n",
    "from sklearn.discriminant_analysis import LinearDiscriminantAnalysis as LDA\n",
    "\n",
    "from sklearn.model_selection import train_test_split\n",
    "from sklearn.utils import resample"
   ]
  },
  {
   "cell_type": "code",
   "execution_count": 2,
   "id": "7fa623ee",
   "metadata": {},
   "outputs": [],
   "source": [
    "def bandpass_filter(data, low, high, fs, order=4):\n",
    "    nyq = 0.5 * fs\n",
    "    low /= nyq\n",
    "    high /= nyq\n",
    "    b, a = butter(order, [low, high], btype='band')\n",
    "    return lfilter(b, a, data, axis=-1)\n",
    "\n",
    "def butter_filter(data, cutoff, fs, btype='low', order=2):\n",
    "    nyquist = 0.5 * fs\n",
    "    normal_cutoff = cutoff / nyquist\n",
    "    b, a = butter(order, normal_cutoff, btype=btype, analog=False)\n",
    "    y = lfilter(b, a, data, axis=0)\n",
    "    return y\n",
    "\n",
    "\n",
    "def notch_filter(signal, fs, freq=60, Q=30):\n",
    "    b, a = iirnotch(freq, Q, fs)\n",
    "    return lfilter(b, a, signal, axis=0)"
   ]
  },
  {
   "cell_type": "code",
   "execution_count": 3,
   "id": "bdd0cf47",
   "metadata": {},
   "outputs": [],
   "source": [
    "debug = False\n",
    "\n",
    "# Setting up the board\n",
    "if debug:\n",
    "    # Create a synthetic board for debugging purposes\n",
    "    board_id = BoardIds.SYNTHETIC_BOARD\n",
    "    params = BrainFlowInputParams()\n",
    "else:\n",
    "    # Setting up the board\n",
    "    params = BrainFlowInputParams()\n",
    "    params.serial_number = 'UN-2023.02.30'\n",
    "    board_id = BoardIds.UNICORN_BOARD\n",
    "    \n",
    "board = BoardShim(board_id, params)\n",
    "\n",
    "# Getting specific board details\n",
    "channels = board.get_eeg_channels(board_id) #EEG Channels\n",
    "timestamp_channel = board.get_timestamp_channel(board_id) # Timestamp channel\n",
    "marker_channel = board.get_marker_channel(board_id) # Marker channel for synchronization\n",
    "sampling_rate = BoardShim.get_sampling_rate(board_id) # Hz"
   ]
  },
  {
   "cell_type": "code",
   "execution_count": 72,
   "id": "a029007d",
   "metadata": {},
   "outputs": [],
   "source": [
    "dataset = np.loadtxt(r\"..//dataset3.csv\", delimiter=\",\")"
   ]
  },
  {
   "cell_type": "code",
   "execution_count": 73,
   "id": "352b204e",
   "metadata": {},
   "outputs": [],
   "source": [
    "eegdata = dataset[:, channels]\n",
    "markers = dataset[:, marker_channel]"
   ]
  },
  {
   "cell_type": "code",
   "execution_count": 74,
   "id": "47f98cc3",
   "metadata": {},
   "outputs": [],
   "source": [
    "temp_idx = np.arange(0, len(markers))\n",
    "temp_idx = temp_idx[markers != 0]\n",
    "# temp_idx = temp_idx[markers[temp_idx] != 67]\n",
    "\n",
    "buffer = 750\n",
    "window_size = int(3*sampling_rate)\n",
    "\n",
    "eeg_samples = []\n",
    "labels = []\n",
    "\n",
    "for i in range(len(temp_idx)):\n",
    "    temp_eeg = eegdata[ temp_idx[i]:temp_idx[i]+window_size+buffer, :]\n",
    "    temp_eeg = butter_filter(temp_eeg, 3, sampling_rate, btype='high', order=2)\n",
    "    temp_eeg = butter_filter(temp_eeg, 80, sampling_rate, btype='low', order=2)\n",
    "    temp_eeg = notch_filter(temp_eeg, sampling_rate, freq=60)\n",
    "    temp_eeg = temp_eeg[buffer:, :]\n",
    "    temp_eeg -= np.mean(temp_eeg, axis=1, keepdims=True)\n",
    "    temp_mean = np.mean(temp_eeg, axis=0, keepdims=True)\n",
    "    temp_std = np.std(temp_eeg, axis=0, keepdims=True)\n",
    "    temp_eeg = (temp_eeg - temp_mean) / temp_std\n",
    "    \n",
    "    eeg_samples.append(temp_eeg)\n",
    "    labels.append(markers[temp_idx[i]])\n",
    "\n",
    "eeg_samples = np.array(eeg_samples)\n",
    "labels = np.array(labels)"
   ]
  },
  {
   "cell_type": "code",
   "execution_count": 75,
   "id": "3cbc3ca7",
   "metadata": {},
   "outputs": [
    {
     "name": "stdout",
     "output_type": "stream",
     "text": [
      "[0. 1. 0. 1. 0. 2. 0. 2. 0. 2. 0. 1. 0. 1. 0. 2. 0. 1. 0. 2. 0. 1. 0. 2.\n",
      " 0. 2. 0. 2. 0. 1. 0. 1. 0. 1. 0. 2. 0. 1. 0. 2. 0. 1. 0. 2. 0. 1. 0. 2.\n",
      " 0. 1. 0. 2. 0. 2. 0. 2. 0. 1. 0. 1. 0. 2. 0. 2. 0. 2. 0. 1. 0. 2. 0. 1.\n",
      " 0. 2. 0. 1. 0. 1. 0. 1. 0. 1. 0. 1. 0. 2. 0. 2. 0. 1. 0. 1. 0. 2. 0. 2.\n",
      " 0. 1. 0. 2. 0. 2. 0. 2. 0. 2. 0. 1. 0. 1. 0. 1. 0. 2. 0. 2. 0. 1. 0. 1.\n",
      " 0.]\n",
      "(121,)\n",
      "(121, 750, 8)\n"
     ]
    }
   ],
   "source": [
    "labels[labels == 67] = 0\n",
    "print(labels)\n",
    "\n",
    "print(labels.shape)\n",
    "print(eeg_samples.shape)\n",
    "eeg_samples = np.transpose(eeg_samples, (0, 2, 1))"
   ]
  },
  {
   "cell_type": "code",
   "execution_count": 76,
   "id": "e632cfbd",
   "metadata": {},
   "outputs": [
    {
     "data": {
      "image/png": "[encoded data removed]",
      "text/plain": [
       "<Figure size 600x400 with 1 Axes>"
      ]
     },
     "metadata": {},
     "output_type": "display_data"
    }
   ],
   "source": [
    "X_train, X_test, y_train, y_test = train_test_split(\n",
    "    eeg_samples, labels, test_size=0.3, shuffle=False\n",
    ")\n",
    "\n",
    "plt.figure(figsize=(6,4))\n",
    "plt.hist(y_train, bins=np.arange(y_train.min(), y_train.max()+2)-0.5, rwidth=0.8)\n",
    "plt.xticks(np.unique(y_train))\n",
    "plt.xlabel(\"Class label\")\n",
    "plt.ylabel(\"Count\")\n",
    "plt.title(\"Distribution of labels (class balance)\")\n",
    "plt.show()\n",
    "\n",
    "\n",
    "from sklearn.utils import resample\n",
    "\n",
    "def random_undersample(X, y, random_state=0):\n",
    "    \"\"\"\n",
    "    Undersample majority classes to match the minority class count.\n",
    "    X: (N, channels, times)\n",
    "    y: (N,)\n",
    "    Returns X_res, y_res\n",
    "    \"\"\"\n",
    "    classes, counts = np.unique(y, return_counts=True)\n",
    "    min_count = counts.min()\n",
    "\n",
    "    keep_idx = []\n",
    "    for cls in classes:\n",
    "        idx_cls = np.where(y == cls)[0]\n",
    "        if len(idx_cls) <= min_count:\n",
    "            keep = idx_cls\n",
    "        else:\n",
    "            keep = resample(idx_cls, replace=False, n_samples=min_count, random_state=random_state)\n",
    "        keep_idx.append(keep)\n",
    "\n",
    "    keep_idx = np.concatenate(keep_idx)\n",
    "    # optionally shuffle the result\n",
    "    rng = np.random.RandomState(random_state)\n",
    "    rng.shuffle(keep_idx)\n",
    "\n",
    "    return X[keep_idx], y[keep_idx]\n",
    "\n",
    "\n",
    "X_train, y_train = random_undersample(X_train, y_train)"
   ]
  },
  {
   "cell_type": "code",
   "execution_count": 77,
   "id": "f87740e5",
   "metadata": {},
   "outputs": [
    {
     "data": {
      "image/png": "[encoded data removed]",
      "text/plain": [
       "<Figure size 600x400 with 1 Axes>"
      ]
     },
     "metadata": {},
     "output_type": "display_data"
    }
   ],
   "source": [
    "plt.figure(figsize=(6,4))\n",
    "plt.hist(y_train, bins=np.arange(y_train.min(), y_train.max()+2)-0.5, rwidth=0.8)\n",
    "plt.xticks(np.unique(y_train))\n",
    "plt.xlabel(\"Class label\")\n",
    "plt.ylabel(\"Count\")\n",
    "plt.title(\"Distribution of labels (class balance)\")\n",
    "plt.show()"
   ]
  },
  {
   "cell_type": "code",
   "execution_count": 78,
   "id": "1e730a4a",
   "metadata": {},
   "outputs": [
    {
     "name": "stdout",
     "output_type": "stream",
     "text": [
      "Computing rank from data with rank=None\n",
      "    Using tolerance 0.66 (2.2e-16 eps * 8 dim * 3.7e+14  max singular value)\n",
      "    Estimated rank (data): 8\n",
      "    data: rank 8 computed from 8 data channels with 0 projectors\n",
      "Reducing data rank from 8 -> 8\n",
      "Estimating class=0.0 covariance using EMPIRICAL\n",
      "Done.\n",
      "Estimating class=1.0 covariance using EMPIRICAL\n",
      "Done.\n",
      "Estimating class=2.0 covariance using EMPIRICAL\n",
      "Done.\n",
      "Train accuracy: 0.58\n",
      "Test accuracy: 0.49\n"
     ]
    }
   ],
   "source": [
    "from sklearn.model_selection import train_test_split\n",
    "from sklearn.pipeline import Pipeline\n",
    "from sklearn.discriminant_analysis import LinearDiscriminantAnalysis as LDA\n",
    "from mne.decoding import CSP  # CSP implementation in MNE\n",
    "\n",
    "# -----------------------------\n",
    "# Build pipeline: CSP → LDA\n",
    "# -----------------------------\n",
    "clf = Pipeline([\n",
    "    (\"csp\", CSP(n_components=4, reg=None, log=True, norm_trace=False)),\n",
    "    (\"lda\", LDA())\n",
    "])\n",
    "\n",
    "# -----------------------------\n",
    "# Train\n",
    "# -----------------------------\n",
    "clf.fit(X_train, y_train)\n",
    "\n",
    "# -----------------------------\n",
    "# Evaluate\n",
    "# -----------------------------\n",
    "train_acc = clf.score(X_train, y_train)\n",
    "test_acc = clf.score(X_test, y_test)\n",
    "\n",
    "print(f\"Train accuracy: {train_acc:.2f}\")\n",
    "print(f\"Test accuracy: {test_acc:.2f}\")"
   ]
  },
  {
   "cell_type": "code",
   "execution_count": 80,
   "id": "521fe93c",
   "metadata": {},
   "outputs": [
    {
     "data": {
      "text/plain": [
       "['csp_lda_model.joblib']"
      ]
     },
     "execution_count": 80,
     "metadata": {},
     "output_type": "execute_result"
    }
   ],
   "source": [
    "import joblib\n",
    "\n",
    "# Save to file\n",
    "joblib.dump(clf, \"csp_lda_model.joblib\")"
   ]
  },
  {
   "cell_type": "code",
   "execution_count": 81,
   "id": "4d04fb8e",
   "metadata": {},
   "outputs": [
    {
     "name": "stdout",
     "output_type": "stream",
     "text": [
      "Test accuracy: 0.49\n"
     ]
    }
   ],
   "source": [
    "clf_loaded = joblib.load(\"csp_lda_model.joblib\")\n",
    "\n",
    "# Use it for inference on new EEG data\n",
    "y_pred = clf_loaded.score(X_test, y_test)\n",
    "\n",
    "print(f\"Test accuracy: {y_pred:.2f}\")"
   ]
  },
  {
   "cell_type": "code",
   "execution_count": 82,
   "id": "1f54bf05",
   "metadata": {},
   "outputs": [
    {
     "data": {
      "text/plain": [
       "1.0"
      ]
     },
     "execution_count": 82,
     "metadata": {},
     "output_type": "execute_result"
    }
   ],
   "source": [
    "clf_loaded.predict(np.expand_dims(X_test[7], axis=0))[0]"
   ]
  },
  {
   "cell_type": "code",
   "execution_count": 83,
   "id": "a819fd9f",
   "metadata": {},
   "outputs": [],
   "source": [
    "step = 5\n",
    "window_size = int(3*sampling_rate)\n",
    "buffer = 750\n",
    "\n",
    "pred_label = []\n",
    "true_label = []\n",
    "\n",
    "\n",
    "i=0\n",
    "while i <  len(eegdata) - window_size - buffer:\n",
    "    temp_eeg = eegdata[ i:i+window_size+buffer, : ]\n",
    "\n",
    "    # Preprocess EMG\n",
    "    temp_eeg = butter_filter(temp_eeg, 3, sampling_rate, btype='high', order=2)\n",
    "    temp_eeg = butter_filter(temp_eeg, 80, sampling_rate, btype='low', order=2)\n",
    "    temp_eeg = notch_filter(temp_eeg, sampling_rate, freq=60)\n",
    "    temp_eeg = temp_eeg[buffer:, :]\n",
    "    temp_eeg -= np.mean(temp_eeg, axis=1, keepdims=True)\n",
    "    temp_mean = np.mean(temp_eeg, axis=0, keepdims=True)\n",
    "    temp_std = np.std(temp_eeg, axis=0, keepdims=True)\n",
    "    temp_eeg = (temp_eeg - temp_mean) / temp_std\n",
    "\n",
    "    # Preprocess\n",
    "    temp_label = markers[i+window_size+buffer-125]\n",
    "    true_label.append(temp_label)\n",
    "\n",
    "    pred = clf_loaded.predict(np.expand_dims(temp_eeg.T, axis=0))\n",
    "    pred_label.append(pred[0])\n",
    "\n",
    "    i += step\n"
   ]
  },
  {
   "cell_type": "code",
   "execution_count": 84,
   "id": "cd64ec21",
   "metadata": {},
   "outputs": [
    {
     "name": "stdout",
     "output_type": "stream",
     "text": [
      "[0.0, 1.0, 2.0, 67.0]\n"
     ]
    }
   ],
   "source": [
    "unique_values = list(set(true_label))\n",
    "print(unique_values)"
   ]
  },
  {
   "cell_type": "code",
   "execution_count": 85,
   "id": "8bfdce84",
   "metadata": {},
   "outputs": [],
   "source": [
    "true_label = np.array(true_label) \n",
    "pred_label = np.array(pred_label)\n",
    "\n",
    "true_label[true_label == 67] = 0"
   ]
  },
  {
   "cell_type": "code",
   "execution_count": 86,
   "id": "4fdecc36",
   "metadata": {},
   "outputs": [
    {
     "data": {
      "image/png": "[encoded data removed]",
      "text/plain": [
       "<Figure size 640x480 with 1 Axes>"
      ]
     },
     "metadata": {},
     "output_type": "display_data"
    }
   ],
   "source": [
    "\n",
    "plt.plot(pred_label, label='Predicted Label')\n",
    "plt.plot(true_label, label='True Label')\n",
    "plt.legend()\n",
    "plt.show()"
   ]
  },
  {
   "cell_type": "code",
   "execution_count": 87,
   "id": "b9bfaed5",
   "metadata": {},
   "outputs": [
    {
     "data": {
      "text/plain": [
       "0.3535463533457515"
      ]
     },
     "execution_count": 87,
     "metadata": {},
     "output_type": "execute_result"
    }
   ],
   "source": [
    "(true_label == pred_label).sum() / len(true_label)"
   ]
  },
  {
   "cell_type": "code",
   "execution_count": null,
   "id": "2ca71613",
   "metadata": {},
   "outputs": [],
   "source": []
  }
 ],
 "metadata": {
  "kernelspec": {
   "display_name": "Python 3",
   "language": "python",
   "name": "python3"
  },
  "language_info": {
   "codemirror_mode": {
    "name": "ipython",
    "version": 3
   },
   "file_extension": ".py",
   "mimetype": "text/x-python",
   "name": "python",
   "nbconvert_exporter": "python",
   "pygments_lexer": "ipython3",
   "version": "3.10.11"
  }
 },
 "nbformat": 4,
 "nbformat_minor": 5
}
