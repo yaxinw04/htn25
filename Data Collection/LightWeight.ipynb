{
 "cells": [
  {
   "cell_type": "code",
   "execution_count": 1,
   "id": "d93031ff",
   "metadata": {},
   "outputs": [],
   "source": [
    "import numpy as np\n",
    "import scipy.io as sio\n",
    "from scipy import signal\n",
    "from scipy.signal import butter, lfilter, iirnotch\n",
    "from brainflow.board_shim import BoardShim, BrainFlowInputParams, BoardIds\n",
    "import matplotlib.pyplot as plt"
   ]
  },
  {
   "cell_type": "code",
   "execution_count": 2,
   "id": "7fa623ee",
   "metadata": {},
   "outputs": [],
   "source": [
    "def butter_filter(data, cutoff, fs, btype='low', order=2):\n",
    "    nyquist = 0.5 * fs\n",
    "    normal_cutoff = cutoff / nyquist\n",
    "    b, a = butter(order, normal_cutoff, btype=btype, analog=False)\n",
    "    y = lfilter(b, a, data, axis=0)\n",
    "    return y\n",
    "\n",
    "def notch_filter(signal, fs, freq=50, Q=30):\n",
    "    b, a = iirnotch(freq, Q, fs)\n",
    "    return lfilter(b, a, signal, axis=0)"
   ]
  },
  {
   "cell_type": "code",
   "execution_count": 3,
   "id": "bdd0cf47",
   "metadata": {},
   "outputs": [],
   "source": [
    "debug = False\n",
    "\n",
    "# Setting up the board\n",
    "if debug:\n",
    "    # Create a synthetic board for debugging purposes\n",
    "    board_id = BoardIds.SYNTHETIC_BOARD\n",
    "    params = BrainFlowInputParams()\n",
    "else:\n",
    "    # Setting up the board\n",
    "    params = BrainFlowInputParams()\n",
    "    params.serial_number = 'UN-2023.02.30'\n",
    "    board_id = BoardIds.UNICORN_BOARD\n",
    "    \n",
    "board = BoardShim(board_id, params)\n",
    "\n",
    "# Getting specific board details\n",
    "channels = board.get_eeg_channels(board_id) #EEG Channels\n",
    "timestamp_channel = board.get_timestamp_channel(board_id) # Timestamp channel\n",
    "marker_channel = board.get_marker_channel(board_id) # Marker channel for synchronization\n",
    "sampling_rate = BoardShim.get_sampling_rate(board_id) # Hz"
   ]
  },
  {
   "cell_type": "code",
   "execution_count": 4,
   "id": "a029007d",
   "metadata": {},
   "outputs": [],
   "source": [
    "dataset = np.loadtxt(r\"..//eeg_data.csv\", delimiter=\",\")"
   ]
  },
  {
   "cell_type": "code",
   "execution_count": 5,
   "id": "352b204e",
   "metadata": {},
   "outputs": [],
   "source": [
    "eegdata = dataset[:, channels]\n",
    "markers = dataset[:, marker_channel]"
   ]
  },
  {
   "cell_type": "code",
   "execution_count": 6,
   "id": "47f98cc3",
   "metadata": {},
   "outputs": [],
   "source": [
    "# Getting markers\n",
    "idx_starting_markers = np.arange(0, len(markers))\n",
    "idx_starting_markers = idx_starting_markers[markers != 0]\n",
    "idx_starting_markers = idx_starting_markers[markers[idx_starting_markers] != 67]\n",
    "\n",
    "idx_end_markers = np.arange(0, len(markers))[markers == 67]\n",
    "\n",
    "# Preprocessing EEG\n",
    "start = idx_end_markers[0]\n",
    "idx_end_markers = idx_end_markers[1:]\n",
    "\n",
    "raw_label = np.zeros_like(markers)\n",
    "\n",
    "# Set label outputs to constant\n",
    "for i in range(len(idx_starting_markers)):\n",
    "    marker = markers[idx_starting_markers[i]]\n",
    "    raw_label[idx_starting_markers[i]:idx_end_markers[i]] = marker\n",
    "\n",
    "good_eeg = eegdata[start:, :]\n",
    "good_label = raw_label[start:]"
   ]
  },
  {
   "cell_type": "code",
   "execution_count": 7,
   "id": "fd2ecc62",
   "metadata": {},
   "outputs": [],
   "source": [
    "import torch\n",
    "import torch.nn as nn\n",
    "import torch.nn.functional as F\n",
    "from torch.utils.data import Dataset\n",
    "from torch.utils.data import DataLoader\n",
    "import copy"
   ]
  },
  {
   "cell_type": "code",
   "execution_count": 8,
   "id": "9989d38c",
   "metadata": {},
   "outputs": [],
   "source": [
    "device = torch.device('cuda' if torch.cuda.is_available() else 'cpu')"
   ]
  },
  {
   "cell_type": "code",
   "execution_count": 9,
   "id": "df987a00",
   "metadata": {},
   "outputs": [],
   "source": [
    "num_classes = 4\n",
    "\n",
    "val_idx = int(0.8*len(good_label))\n",
    "test_idx = int(0.9*len(good_label))\n",
    "\n",
    "X = {}\n",
    "y = {}\n",
    "\n",
    "X[\"Train\"] = good_eeg[:val_idx]\n",
    "y[\"Train\"] = good_label[:val_idx]\n",
    "\n",
    "X[\"Val\"] = good_eeg[val_idx:test_idx]\n",
    "y[\"Val\"] = good_label[val_idx:test_idx]\n",
    "\n",
    "X[\"Test\"] = good_eeg[test_idx:]\n",
    "y[\"Test\"] = good_label[test_idx:]"
   ]
  },
  {
   "cell_type": "code",
   "execution_count": 10,
   "id": "1ba379b9",
   "metadata": {},
   "outputs": [
    {
     "name": "stdout",
     "output_type": "stream",
     "text": [
      "tensor([0.1604, 0.4182, 0.4214], device='cuda:0')\n"
     ]
    }
   ],
   "source": [
    "classes, counts = np.unique(y[\"Train\"], return_counts=True)\n",
    "weights = 1.0 / counts   # inverse frequency\n",
    "weights = weights / weights.sum()  # normalize (optional)\n",
    "\n",
    "class_weights = torch.tensor(weights, dtype=torch.float).to(device)\n",
    "print(class_weights)  # e.g., tensor([0.25, 0.1667, 0.5])"
   ]
  },
  {
   "cell_type": "code",
   "execution_count": 11,
   "id": "a949dccb",
   "metadata": {},
   "outputs": [],
   "source": [
    "step = 20\n",
    "window_size = int(4*sampling_rate)\n",
    "buffer = 750\n",
    "\n",
    "class EEGDataset(Dataset):\n",
    "    def __init__(self, data_type):\n",
    "        self.data_type = data_type\n",
    "    \n",
    "    def __len__(self):\n",
    "        return ( len(y[self.data_type]) - window_size - buffer ) // step\n",
    "    \n",
    "    def __getitem__(self, idx):\n",
    "        i = int(idx*step)\n",
    "\n",
    "        temp_emg = good_eeg[ i:i+window_size+buffer, : ]\n",
    "\n",
    "        # Preprocess EMG\n",
    "        temp_emg = butter_filter(temp_emg, 3, sampling_rate, btype='high', order=2)\n",
    "        temp_emg = butter_filter(temp_emg, 80, sampling_rate, btype='low', order=2)\n",
    "        temp_emg = notch_filter(temp_emg, sampling_rate, freq=60)\n",
    "\n",
    "        temp_emg = temp_emg[buffer:, :]\n",
    "        temp_emg -= np.mean(temp_emg, axis=1, keepdims=True)\n",
    "\n",
    "        temp_mean = np.mean(temp_emg, axis=0, keepdims=True)\n",
    "        temp_std = np.std(temp_emg, axis=0, keepdims=True)\n",
    "\n",
    "        temp_emg = (temp_emg - temp_mean) / temp_std\n",
    "\n",
    "        # Preprocess\n",
    "        temp_label = good_label[i+window_size+buffer-125]\n",
    "\n",
    "        # Get the EEG data and corresponding label\n",
    "        eeg = torch.tensor(temp_emg, dtype=torch.float32)\n",
    "        label = torch.tensor(temp_label, dtype=torch.long)\n",
    "\n",
    "        return eeg, label\n",
    "    \n",
    "train_dataset = EEGDataset(\"Train\")\n",
    "val_dataset = EEGDataset(\"Val\")\n",
    "test_dataset = EEGDataset(\"Test\")\n",
    "\n",
    "train_loader = DataLoader(train_dataset, batch_size=64, shuffle=True)\n",
    "val_loader = DataLoader(val_dataset, batch_size=64, shuffle=False)\n",
    "test_loader = DataLoader(test_dataset, batch_size=64, shuffle=False)"
   ]
  },
  {
   "cell_type": "code",
   "execution_count": 12,
   "id": "5e1af77d",
   "metadata": {},
   "outputs": [
    {
     "data": {
      "text/plain": [
       "torch.Size([1000, 8])"
      ]
     },
     "execution_count": 12,
     "metadata": {},
     "output_type": "execute_result"
    }
   ],
   "source": [
    "train_dataset[0][0].shape"
   ]
  },
  {
   "cell_type": "code",
   "execution_count": 13,
   "id": "709a4dc5",
   "metadata": {},
   "outputs": [],
   "source": [
    "class Attention(nn.Module):\n",
    "    def __init__(self, hidden_size):\n",
    "        super(Attention, self).__init__()\n",
    "        self.hidden_size = hidden_size\n",
    "        self.attn = nn.Linear(self.hidden_size, hidden_size)\n",
    "        self.v = nn.Linear(hidden_size, 1, bias=False)\n",
    "\n",
    "    def forward(self, encoder_outputs, hidden):\n",
    "\n",
    "        seq_len = encoder_outputs.size(1)\n",
    "        h_tiled = hidden.unsqueeze(1).repeat(1, seq_len, 1)\n",
    "        energy = torch.tanh(self.attn(torch.cat((encoder_outputs, h_tiled), dim=2)))\n",
    "        attn_weights = torch.softmax(self.v(energy), dim=1)\n",
    "        context_vector = torch.sum(attn_weights * encoder_outputs, dim=1)\n",
    "\n",
    "        return context_vector\n",
    "\n",
    "class DPARSEncoder(nn.Module):\n",
    "    def __init__(self, input_size, encode_size, num_classes):\n",
    "        super(DPARSEncoder, self).__init__()\n",
    "        second_size = input_size*2\n",
    "        \n",
    "        self.bn1 = nn.BatchNorm1d(second_size)\n",
    "        self.bn2 = nn.BatchNorm1d(encode_size)\n",
    "        self.dropout = nn.Dropout(p=0.3)\n",
    "        self.attention = Attention(2*encode_size)\n",
    "\n",
    "        self.depthwise1 = nn.Conv1d(\n",
    "            input_size, input_size, kernel_size=64, stride = 16, groups=input_size, bias=False)\n",
    "        self.pointwise1 = nn.Conv1d(input_size, second_size, kernel_size=1)\n",
    "\n",
    "\n",
    "        self.depthwise2 = nn.Conv1d(\n",
    "            second_size, second_size, kernel_size=16, stride = 4, groups=second_size, bias=False)\n",
    "        self.pointwise2 = nn.Conv1d(second_size, encode_size, kernel_size=1)\n",
    "\n",
    "        self.fc1 = nn.Linear(encode_size, num_classes)\n",
    "        self.relu = nn.ReLU()\n",
    "\n",
    "\n",
    "    def forward(self, x):\n",
    "\n",
    "        # Input -> (batch_size, 1000, 8)\n",
    "        x = x.permute(0, 2, 1)\n",
    "        x = self.depthwise1(x)  # output: (batch, 64, 48)\n",
    "        x = self.pointwise1(x)\n",
    "        x = self.bn1(x)\n",
    "        x = self.relu(x)\n",
    "        x = self.dropout(x)\n",
    "        # print(x.shape)\n",
    "\n",
    "\n",
    "        x = self.depthwise2(x)  # output: (batch, 64, 48)\n",
    "        x = self.pointwise2(x)\n",
    "        x = self.bn2(x)\n",
    "        x = self.relu(x)\n",
    "        x = self.dropout(x)\n",
    "\n",
    "        x = x.permute(0, 2, 1)\n",
    "        x = self.attention(x, x[:, -1, :])\n",
    "        # print(x.shape)\n",
    "\n",
    "        return self.fc1(x)"
   ]
  },
  {
   "cell_type": "code",
   "execution_count": 14,
   "id": "9b498dea",
   "metadata": {},
   "outputs": [
    {
     "name": "stdout",
     "output_type": "stream",
     "text": [
      "Epoch 1, Training Loss: 1.122, Validation Acc: 0.351%\n",
      "Epoch 2, Training Loss: 1.086, Validation Acc: 0.395%\n",
      "Epoch 3, Training Loss: 1.064, Validation Acc: 0.385%\n",
      "Epoch 4, Training Loss: 1.026, Validation Acc: 0.559%\n",
      "Epoch 5, Training Loss: 0.982, Validation Acc: 0.607%\n",
      "Epoch 6, Training Loss: 0.942, Validation Acc: 0.674%\n",
      "Epoch 7, Training Loss: 0.899, Validation Acc: 0.703%\n",
      "Epoch 8, Training Loss: 0.863, Validation Acc: 0.692%\n",
      "Epoch 9, Training Loss: 0.846, Validation Acc: 0.726%\n",
      "Epoch 10, Training Loss: 0.818, Validation Acc: 0.740%\n",
      "Epoch 11, Training Loss: 0.777, Validation Acc: 0.763%\n",
      "Epoch 12, Training Loss: 0.761, Validation Acc: 0.730%\n",
      "Epoch 13, Training Loss: 0.737, Validation Acc: 0.788%\n",
      "Epoch 14, Training Loss: 0.719, Validation Acc: 0.736%\n",
      "Epoch 15, Training Loss: 0.713, Validation Acc: 0.757%\n",
      "Epoch 16, Training Loss: 0.683, Validation Acc: 0.790%\n",
      "Epoch 17, Training Loss: 0.669, Validation Acc: 0.796%\n",
      "Epoch 18, Training Loss: 0.650, Validation Acc: 0.782%\n",
      "Epoch 19, Training Loss: 0.633, Validation Acc: 0.815%\n",
      "Epoch 20, Training Loss: 0.616, Validation Acc: 0.827%\n",
      "Epoch 21, Training Loss: 0.613, Validation Acc: 0.842%\n",
      "Epoch 22, Training Loss: 0.610, Validation Acc: 0.842%\n",
      "Epoch 23, Training Loss: 0.596, Validation Acc: 0.834%\n",
      "Epoch 24, Training Loss: 0.594, Validation Acc: 0.854%\n",
      "Epoch 25, Training Loss: 0.566, Validation Acc: 0.832%\n",
      "Epoch 26, Training Loss: 0.567, Validation Acc: 0.842%\n",
      "Epoch 27, Training Loss: 0.546, Validation Acc: 0.865%\n",
      "Epoch 28, Training Loss: 0.540, Validation Acc: 0.859%\n",
      "Epoch 29, Training Loss: 0.535, Validation Acc: 0.873%\n",
      "Epoch 30, Training Loss: 0.525, Validation Acc: 0.846%\n",
      "Epoch 31, Training Loss: 0.520, Validation Acc: 0.863%\n",
      "Epoch 32, Training Loss: 0.506, Validation Acc: 0.892%\n",
      "Epoch 33, Training Loss: 0.514, Validation Acc: 0.838%\n",
      "Epoch 34, Training Loss: 0.517, Validation Acc: 0.879%\n",
      "Epoch 35, Training Loss: 0.497, Validation Acc: 0.881%\n",
      "Epoch 36, Training Loss: 0.497, Validation Acc: 0.865%\n",
      "Epoch 37, Training Loss: 0.498, Validation Acc: 0.867%\n",
      "Epoch 38, Training Loss: 0.497, Validation Acc: 0.861%\n",
      "Epoch 39, Training Loss: 0.476, Validation Acc: 0.879%\n",
      "Epoch 40, Training Loss: 0.487, Validation Acc: 0.896%\n",
      "Epoch 41, Training Loss: 0.479, Validation Acc: 0.884%\n",
      "Epoch 42, Training Loss: 0.468, Validation Acc: 0.879%\n",
      "Epoch 43, Training Loss: 0.474, Validation Acc: 0.896%\n",
      "Epoch 44, Training Loss: 0.464, Validation Acc: 0.890%\n",
      "Epoch 45, Training Loss: 0.481, Validation Acc: 0.857%\n",
      "Epoch 46, Training Loss: 0.459, Validation Acc: 0.884%\n",
      "Epoch 47, Training Loss: 0.467, Validation Acc: 0.879%\n",
      "Epoch 48, Training Loss: 0.454, Validation Acc: 0.879%\n",
      "Epoch 49, Training Loss: 0.470, Validation Acc: 0.898%\n",
      "Epoch 50, Training Loss: 0.467, Validation Acc: 0.881%\n",
      "Epoch 51, Training Loss: 0.457, Validation Acc: 0.894%\n",
      "Epoch 52, Training Loss: 0.447, Validation Acc: 0.884%\n",
      "Epoch 53, Training Loss: 0.464, Validation Acc: 0.877%\n",
      "Epoch 54, Training Loss: 0.445, Validation Acc: 0.898%\n",
      "Epoch 55, Training Loss: 0.461, Validation Acc: 0.867%\n",
      "Epoch 56, Training Loss: 0.436, Validation Acc: 0.886%\n",
      "Epoch 57, Training Loss: 0.457, Validation Acc: 0.884%\n",
      "Epoch 58, Training Loss: 0.434, Validation Acc: 0.888%\n",
      "Epoch 59, Training Loss: 0.443, Validation Acc: 0.894%\n",
      "Epoch 60, Training Loss: 0.425, Validation Acc: 0.881%\n",
      "Epoch 61, Training Loss: 0.439, Validation Acc: 0.871%\n",
      "Epoch 62, Training Loss: 0.441, Validation Acc: 0.877%\n",
      "Epoch 63, Training Loss: 0.427, Validation Acc: 0.894%\n",
      "Epoch 64, Training Loss: 0.428, Validation Acc: 0.867%\n",
      "Epoch 65, Training Loss: 0.429, Validation Acc: 0.877%\n",
      "Epoch 66, Training Loss: 0.436, Validation Acc: 0.904%\n",
      "Epoch 67, Training Loss: 0.436, Validation Acc: 0.879%\n",
      "Epoch 68, Training Loss: 0.420, Validation Acc: 0.881%\n",
      "Epoch 69, Training Loss: 0.413, Validation Acc: 0.892%\n",
      "Epoch 70, Training Loss: 0.412, Validation Acc: 0.896%\n",
      "Epoch 71, Training Loss: 0.429, Validation Acc: 0.904%\n",
      "Epoch 72, Training Loss: 0.429, Validation Acc: 0.890%\n",
      "Epoch 73, Training Loss: 0.425, Validation Acc: 0.896%\n",
      "Epoch 74, Training Loss: 0.423, Validation Acc: 0.888%\n",
      "Epoch 75, Training Loss: 0.402, Validation Acc: 0.863%\n"
     ]
    }
   ],
   "source": [
    "model = DPARSEncoder(8, 16, 3).to(device)\n",
    "optimizer = torch.optim.Adam(model.parameters(), lr=0.001)   # optimize all parameters\n",
    "criterion = nn.CrossEntropyLoss(weight=class_weights)\n",
    "\n",
    "best_model_wts = copy.deepcopy(model.state_dict())\n",
    "best_acc = 0.0\n",
    "\n",
    "for epoch in range(75):\n",
    "    \n",
    "    # Train the data\n",
    "    model.train()\n",
    "    running_loss = 0.0\n",
    "    for inputs, label in train_loader:\n",
    "        # Inputs are in shape (batch_size, channels, timepoints)\n",
    "        # Need to transform to (batch_size, 1, channels, timepoints)\n",
    "        inputs = inputs.to(device)\n",
    "        label = label.to(device)\n",
    "        \n",
    "        model_output = model(inputs)\n",
    "        loss = criterion(model_output, label)\n",
    "\n",
    "        optimizer.zero_grad()\n",
    "        loss.backward()\n",
    "        optimizer.step()\n",
    "        \n",
    "        running_loss += loss.item()\n",
    "    \n",
    "    # Validate Data\n",
    "    model.eval()\n",
    "    val_acc = 0\n",
    "    with torch.no_grad():\n",
    "        for inputs, label in val_loader:\n",
    "            # Inputs are in shape (batch_size, channels, timepoints)\n",
    "            # Need to transform to (batch_size, 1, channels, timepoints)\n",
    "            inputs = inputs.to(device)\n",
    "            label = label.to(device)\n",
    "            \n",
    "            model_output = model(inputs)\n",
    "            pred = model_output.argmax(dim=1, keepdim=True)\n",
    "            val_acc += pred.eq(label.view_as(pred)).sum().item()\n",
    "\n",
    "    # Print to see status\n",
    "    print(f'Epoch {epoch+1}, Training Loss: {running_loss/len(train_loader):.3f}, Validation Acc: {val_acc/len(val_loader.dataset):.3f}%')\n",
    "\n",
    "    if val_acc > best_acc:\n",
    "        best_acc = val_acc\n",
    "        best_model_wts = copy.deepcopy(model.state_dict())"
   ]
  },
  {
   "cell_type": "code",
   "execution_count": 16,
   "id": "f8ae7c0a",
   "metadata": {},
   "outputs": [
    {
     "name": "stdout",
     "output_type": "stream",
     "text": [
      "The model has 2387 parameters.\n"
     ]
    }
   ],
   "source": [
    "def count_parameters(model):\n",
    "    return sum(p.numel() for p in model.parameters())\n",
    "\n",
    "# Example usage:\n",
    "# model = SomeModel()  # Replace with your actual model\n",
    "encoder_count = count_parameters(model)\n",
    "# rnn = count_parameters(rnn_DPARS)\n",
    "print(f'The model has {encoder_count} parameters.')"
   ]
  },
  {
   "cell_type": "code",
   "execution_count": 17,
   "id": "2d498c9a",
   "metadata": {},
   "outputs": [
    {
     "name": "stdout",
     "output_type": "stream",
     "text": [
      "(64,)\n",
      "(128,)\n",
      "(192,)\n",
      "(256,)\n",
      "(320,)\n",
      "(384,)\n",
      "(448,)\n",
      "accuracy = 90.45643153526972\n",
      "tensor([0, 0, 0, 0, 0, 0, 0, 0, 0, 0, 0, 0, 0, 0, 0, 0, 0, 0, 0, 0, 0, 0, 0, 0,\n",
      "        0, 0, 0, 0, 0, 0, 0, 0, 0, 0], device='cuda:0')\n",
      "tensor([0, 0, 0, 0, 0, 0, 0, 0, 0, 0, 0, 0, 0, 0, 0, 0, 0, 0, 0, 0, 0, 0, 0, 0,\n",
      "        0, 0, 0, 0, 0, 0, 0, 0, 0, 0], device='cuda:0')\n"
     ]
    },
    {
     "data": {
      "text/plain": [
       "<matplotlib.legend.Legend at 0x21c91f532b0>"
      ]
     },
     "execution_count": 17,
     "metadata": {},
     "output_type": "execute_result"
    },
    {
     "data": {
      "image/png": "[encoded data removed]",
      "text/plain": [
       "<Figure size 640x480 with 1 Axes>"
      ]
     },
     "metadata": {},
     "output_type": "display_data"
    }
   ],
   "source": [
    "model.load_state_dict(best_model_wts)\n",
    "# test\n",
    "pred_list = []\n",
    "true_list = []\n",
    "flag = 0\n",
    "\n",
    "with torch.no_grad():\n",
    "    n_correct = 0\n",
    "    n_samples = 0\n",
    "    for eeg, labels in test_loader:\n",
    "        eeg = eeg.to(device)\n",
    "        labels = labels.to(device)\n",
    "        outputs = model(eeg)\n",
    "        \n",
    "        _, predictions = torch.max(outputs, 1)\n",
    "        n_samples += labels.shape[0]\n",
    "        n_correct += (predictions==labels).sum().item()\n",
    "\n",
    "        if flag == 0:\n",
    "            pred_list = predictions.cpu().detach().numpy()\n",
    "            true_list = labels.cpu().detach().numpy()\n",
    "            flag = 1\n",
    "        else:\n",
    "            pred = predictions.cpu().detach().numpy()\n",
    "            true = labels.cpu().detach().numpy()\n",
    "\n",
    "            print(pred_list.shape)\n",
    "            pred_list = np.concatenate((pred_list, pred))\n",
    "            true_list = np.concatenate((true_list, true))\n",
    "        \n",
    "    acc = 100 * (n_correct/n_samples)\n",
    "    print(f'accuracy = {acc}')\n",
    "\n",
    "    print(predictions)\n",
    "    print(labels)\n",
    "\n",
    "\n",
    "plt.plot(true_list, label=\"True\")\n",
    "plt.plot(pred_list, label=\"Ped\")\n",
    "plt.legend()"
   ]
  },
  {
   "cell_type": "code",
   "execution_count": null,
   "id": "e682d669",
   "metadata": {},
   "outputs": [],
   "source": [
    "step = 20\n",
    "window_size = int(4*sampling_rate)\n",
    "buffer = 750\n",
    "\n",
    "pred_label = []\n",
    "true_label = []\n",
    "\n",
    "\n",
    "model.eval()\n",
    "with torch.no_grad():\n",
    "    i=0\n",
    "    while i <  len(good_eeg) - window_size - buffer:\n",
    "        temp_eeg = good_eeg[ i:i+window_size+buffer, : ]\n",
    "\n",
    "        # Preprocess EMG\n",
    "        temp_eeg = butter_filter(temp_eeg, 3, sampling_rate, btype='high', order=2)\n",
    "        temp_eeg = butter_filter(temp_eeg, 80, sampling_rate, btype='low', order=2)\n",
    "        temp_eeg = notch_filter(temp_eeg, sampling_rate, freq=60)\n",
    "        temp_eeg = temp_eeg[buffer:, :]\n",
    "        temp_eeg -= np.mean(temp_eeg, axis=1, keepdims=True)\n",
    "        temp_mean = np.mean(temp_eeg, axis=0, keepdims=True)\n",
    "        temp_std = np.std(temp_eeg, axis=0, keepdims=True)\n",
    "        temp_eeg = (temp_eeg - temp_mean) / temp_std\n",
    "\n",
    "        # Preprocess\n",
    "        temp_label = good_label[i+window_size+buffer-125]\n",
    "        true_label.append(temp_label)\n",
    "\n",
    "        temp_eeg = torch.tensor(temp_eeg, dtype=torch.float32).unsqueeze(0).to(device)\n",
    "        outputs = model(temp_eeg)\n",
    "        \n",
    "        predictions = outputs.argmax(dim=1, keepdim=True)\n",
    "        pred = predictions.cpu().detach().numpy()[0][0]\n",
    "\n",
    "        pred_label.append(pred)\n",
    "        i += step\n"
   ]
  },
  {
   "cell_type": "code",
   "execution_count": null,
   "id": "d7f058f3",
   "metadata": {},
   "outputs": [],
   "source": [
    "pred_label = np.array(pred_label)\n",
    "true_label = np.array(true_label)\n",
    "plt.plot(pred_label, label='Predicted Label')\n",
    "plt.plot(true_label, label='True Label')\n",
    "plt.legend()\n",
    "plt.show()"
   ]
  },
  {
   "cell_type": "code",
   "execution_count": null,
   "id": "f0fafe6d",
   "metadata": {},
   "outputs": [],
   "source": [
    "np.sum(true_label == pred_label) / len(true_label)"
   ]
  },
  {
   "cell_type": "code",
   "execution_count": 15,
   "id": "55c8f727",
   "metadata": {},
   "outputs": [],
   "source": [
    "torch.save(model.state_dict(), f\"model.pth\")"
   ]
  },
  {
   "cell_type": "code",
   "execution_count": null,
   "id": "095da52e",
   "metadata": {},
   "outputs": [],
   "source": []
  }
 ],
 "metadata": {
  "kernelspec": {
   "display_name": "Python 3",
   "language": "python",
   "name": "python3"
  },
  "language_info": {
   "codemirror_mode": {
    "name": "ipython",
    "version": 3
   },
   "file_extension": ".py",
   "mimetype": "text/x-python",
   "name": "python",
   "nbconvert_exporter": "python",
   "pygments_lexer": "ipython3",
   "version": "3.10.11"
  }
 },
 "nbformat": 4,
 "nbformat_minor": 5
}
